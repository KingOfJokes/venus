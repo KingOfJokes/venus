{
 "cells": [
  {
   "cell_type": "code",
   "execution_count": 1,
   "metadata": {},
   "outputs": [
    {
     "name": "stderr",
     "output_type": "stream",
     "text": [
      "c:\\users\\ryan\\appdata\\local\\programs\\python\\python36\\lib\\site-packages\\numpy\\_distributor_init.py:32: UserWarning: loaded more than 1 DLL from .libs:\n",
      "c:\\users\\ryan\\appdata\\local\\programs\\python\\python36\\lib\\site-packages\\numpy\\.libs\\libopenblas.PYQHXLVVQ7VESDPUVUADXEVJOBGHJPAY.gfortran-win_amd64.dll\n",
      "c:\\users\\ryan\\appdata\\local\\programs\\python\\python36\\lib\\site-packages\\numpy\\.libs\\libopenblas.TXA6YQSD3GCQQC22GEQ54J2UDCXDXHWN.gfortran-win_amd64.dll\n",
      "  stacklevel=1)\n"
     ]
    }
   ],
   "source": [
    "import numpy as np\n",
    "import pg\n",
    "import system\n",
    "import time\n",
    "import math\n",
    "import os\n",
    "import pandas as pd\n",
    "import json\n",
    "import datetime\n",
    "import matplotlib.pyplot as plt\n",
    "import dg\n",
    "plt.style.use('ggplot')"
   ]
  },
  {
   "cell_type": "code",
   "execution_count": 4,
   "metadata": {},
   "outputs": [],
   "source": [
    "dataset = {\n",
    "\t'close0050':[],\n",
    "\t'openn0050':[],\n",
    "\t'adjopenn':[],\n",
    "\t'adjclose':[],\n",
    "\t'openn':[],\n",
    "\t'high':[],\n",
    "\t'low':[],\n",
    "\t'close':[],\n",
    "\t'volume':[],\n",
    "\t'turnover':[],\n",
    "\t'outstand':[],\n",
    "\t'mktc':[],\n",
    "\t'pe':[],\n",
    "\t'pb':[],\n",
    "\t'cdy':[],\n",
    "\t'fore':[],\n",
    "\t'it':[],\n",
    "\t'dler':[],\n",
    "\t'foreratio':[],\n",
    "\t'itratio':[],\n",
    "\t'dlerratio':[],\n",
    "\t'managerratio':[],\n",
    "\t'mortratio':[],\n",
    "\t'finb':[],\n",
    "\t'shortb':[],\n",
    "\t'fsratio':[],\n",
    "\t'rsv9':[],\n",
    "\t'k9':[],\n",
    "\t'd9':[],\n",
    "\t'ema12':[],\n",
    "\t'ema26':[],\n",
    "\t'dif':[],\n",
    "\t'dem':[],\n",
    "\t'bar':[],\n",
    "\t'ma5':[],\n",
    "\t'ma10':[],\n",
    "\t'ma20':[],\n",
    "\t'ma60':[],\n",
    "\t'ma120':[],\n",
    "\t'ma240':[],\n",
    "\t'vma5':[],\n",
    "\t'vma10':[],\n",
    "\t'vma20':[],\n",
    "\t'vma60':[],\n",
    "\t'vma120':[],\n",
    "\t'vma240':[],\n",
    "\t'ma13':[],\n",
    "\t'ma21':[],\n",
    "\t'ma55':[],\n",
    "\t'totalers':[],\n",
    "\t'ers1':[],\n",
    "\t'ers1to5':[],\n",
    "\t'ers5to10':[],\n",
    "\t'ers10to15':[],\n",
    "\t'ers15to20':[],\n",
    "\t'ers20to30':[],\n",
    "\t'ers30to40':[],\n",
    "\t'ers40to50':[],\n",
    "\t'ers50to100':[],\n",
    "\t'ers100to200':[],\n",
    "\t'ers200to400':[],\n",
    "\t'ers400to600':[],\n",
    "\t'ers600to800':[],\n",
    "\t'ers800to1000':[],\n",
    "\t'ers1000plus':[],\n",
    "\t'ratio1':[],\n",
    "\t'ratio1to5':[],\n",
    "\t'ratio5to10':[],\n",
    "\t'ratio10to15':[],\n",
    "\t'ratio15to20':[],\n",
    "\t'ratio20to30':[],\n",
    "\t'ratio30to40':[],\n",
    "\t'ratio40to50':[],\n",
    "\t'ratio50to100':[],\n",
    "\t'ratio100to200':[],\n",
    "\t'ratio200to400':[],\n",
    "\t'ratio400to600':[],\n",
    "\t'ratio600to800':[],\n",
    "\t'ratio800to1000':[],\n",
    "\t'above1000ratio':[],\n",
    "\t'totalerscombo':[],\n",
    "\t'to50ratio':[],\n",
    "\t'to50ratiocombo':[],\n",
    "\t'to100ratio':[],\n",
    "\t'to100ratiocombo':[],\n",
    "\t'above400ratio':[],\n",
    "\t'above400ratiocombo':[],\n",
    "\t'above1000ratiocombo':[],\n",
    "\t'per1000pluser':[],\n",
    "\t'ers400plus':[],\n",
    "\t'per400pluser':[],\n",
    "\t'other400':[],\n",
    "\t'other400combo':[],\n",
    "\t'publish':[],\n",
    "\t'rev':[],\n",
    "\t'lyrev':[],\n",
    "\t'yoy':[],\n",
    "\t'mom':[],\n",
    "\t'accrev':[],\n",
    "\t'accrevyoy':[],\n",
    "\t'yoycombo':[],\n",
    "\t'momcombo':[],\n",
    "\t'accrevyoycombo':[],\n",
    "\t'breakhigh':[],\n",
    "\t'cash':[],\n",
    "\t'conta':[],\n",
    "\t'ar':[],\n",
    "\t'inv':[],\n",
    "\t'ca':[],\n",
    "\t'ppe':[],\n",
    "\t'nca':[],\n",
    "\t'totala':[],\n",
    "\t'shortdebt':[],\n",
    "\t'contl':[],\n",
    "\t'ap':[],\n",
    "\t'cl':[],\n",
    "\t'longdebt':[],\n",
    "\t'ncl':[],\n",
    "\t'totall':[],\n",
    "\t'equitycap':[],\n",
    "\t'quarrev':[],\n",
    "\t'gross':[],\n",
    "\t'opex':[],\n",
    "\t'rdex':[],\n",
    "\t'opgain':[],\n",
    "\t'incomebeftax':[],\n",
    "\t'eps':[],\n",
    "\t'roe':[],\n",
    "\t'grossmargin':[],\n",
    "\t'opmargin':[],\n",
    "\t'ibtmargin':[],\n",
    "\t'iatmargin':[],\n",
    "\t'opexmargin':[],\n",
    "\t'rdexmargin':[],\n",
    "\t'curratio':[],\n",
    "\t'quickratio':[],\n",
    "\t'debtratio':[],\n",
    "\t'arday':[],\n",
    "\t'invday':[],\n",
    "\t'apday':[],\n",
    "\t'grossmargindy':[],\n",
    "\t'grossmargindq':[],\n",
    "\t'opmargindy':[],\n",
    "\t'opmargindq':[],\n",
    "\t'iatmargindy':[],\n",
    "\t'iatmargindq':[],\n",
    "\t'ibtmargindy':[],\n",
    "\t'ibtmargindq':[],\n",
    "\t'ardaydy':[],\n",
    "\t'ardaydq':[],\n",
    "\t'invdaydy':[],\n",
    "\t'invdaydq':[],\n",
    "\t'apdaydy':[],\n",
    "\t'apdaydq':[],\n",
    "\t'debtratiody':[],\n",
    "\t'debtratiodq':[],\n",
    "\t'quickratiody':[],\n",
    "\t'quickratiodq':[],\n",
    "\t'roedy':[],\n",
    "\t'roedq':[]\n",
    "}"
   ]
  },
  {
   "cell_type": "code",
   "execution_count": 5,
   "metadata": {},
   "outputs": [],
   "source": [
    "for data_name in dataset:\n",
    "    dataset[data_name] = np.load(\"surface/\"+data_name+\".npy\",allow_pickle = True)"
   ]
  },
  {
   "cell_type": "code",
   "execution_count": 14,
   "metadata": {},
   "outputs": [],
   "source": [
    "firmlist = np.load(\"surface/firmlist.npy\",allow_pickle = True).tolist()\n",
    "tdlist = np.load(\"surface/tdlist.npy\",allow_pickle = True).tolist()"
   ]
  },
  {
   "cell_type": "code",
   "execution_count": 76,
   "metadata": {
    "scrolled": true
   },
   "outputs": [],
   "source": [
    "indn = firmlist.index('9911')"
   ]
  },
  {
   "cell_type": "code",
   "execution_count": 77,
   "metadata": {},
   "outputs": [],
   "source": [
    "indclose = dataset['close'][:,indn]"
   ]
  },
  {
   "cell_type": "code",
   "execution_count": 78,
   "metadata": {},
   "outputs": [],
   "source": [
    "indma60 = dataset['ma60'][:,indn]\n",
    "indma20 = dataset['ma20'][:,indn]"
   ]
  },
  {
   "cell_type": "code",
   "execution_count": 79,
   "metadata": {},
   "outputs": [],
   "source": [
    "indvol = dataset['volume'][:,indn]\n",
    "indvma60 = dataset['vma60'][:,indn]"
   ]
  },
  {
   "cell_type": "code",
   "execution_count": 80,
   "metadata": {},
   "outputs": [
    {
     "name": "stderr",
     "output_type": "stream",
     "text": [
      "c:\\users\\ryan\\appdata\\local\\programs\\python\\python36\\lib\\site-packages\\ipykernel_launcher.py:3: RuntimeWarning: divide by zero encountered in true_divide\n",
      "  This is separate from the ipykernel package so we can avoid doing imports until\n"
     ]
    }
   ],
   "source": [
    "homemade60 = (indclose - indma60)/indma60\n",
    "homemade20 = (indclose - indma20)/indma20\n",
    "homemade_1 = homemade60/indvol"
   ]
  },
  {
   "cell_type": "code",
   "execution_count": 81,
   "metadata": {
    "scrolled": true
   },
   "outputs": [
    {
     "data": {
      "text/plain": [
       "[<matplotlib.lines.Line2D at 0x2142bb85320>]"
      ]
     },
     "execution_count": 81,
     "metadata": {},
     "output_type": "execute_result"
    },
    {
     "data": {
      "image/png": "[encoded data removed]",
      "text/plain": [
       "<Figure size 432x288 with 1 Axes>"
      ]
     },
     "metadata": {},
     "output_type": "display_data"
    }
   ],
   "source": [
    "plt.plot(tdlist,homemade60)"
   ]
  },
  {
   "cell_type": "code",
   "execution_count": 68,
   "metadata": {},
   "outputs": [
    {
     "data": {
      "text/plain": [
       "[<matplotlib.lines.Line2D at 0x2142bac6da0>]"
      ]
     },
     "execution_count": 68,
     "metadata": {},
     "output_type": "execute_result"
    },
    {
     "data": {
      "image/png": "[encoded data removed]",
      "text/plain": [
       "<Figure size 432x288 with 1 Axes>"
      ]
     },
     "metadata": {},
     "output_type": "display_data"
    }
   ],
   "source": [
    "plt.plot(tdlist,homemade_1)"
   ]
  },
  {
   "cell_type": "code",
   "execution_count": null,
   "metadata": {},
   "outputs": [],
   "source": []
  }
 ],
 "metadata": {
  "kernelspec": {
   "display_name": "Python 3",
   "language": "python",
   "name": "python3"
  },
  "language_info": {
   "codemirror_mode": {
    "name": "ipython",
    "version": 3
   },
   "file_extension": ".py",
   "mimetype": "text/x-python",
   "name": "python",
   "nbconvert_exporter": "python",
   "pygments_lexer": "ipython3",
   "version": "3.6.5"
  }
 },
 "nbformat": 4,
 "nbformat_minor": 2
}
